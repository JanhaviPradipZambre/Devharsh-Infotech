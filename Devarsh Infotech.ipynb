{
 "cells": [
  {
   "cell_type": "code",
   "execution_count": 1,
   "id": "6b3047af",
   "metadata": {},
   "outputs": [],
   "source": [
    "import pandas as pd"
   ]
  },
  {
   "cell_type": "code",
   "execution_count": 2,
   "id": "b06bb13f",
   "metadata": {},
   "outputs": [],
   "source": [
    "import os"
   ]
  },
  {
   "cell_type": "code",
   "execution_count": 4,
   "id": "bd7fda74",
   "metadata": {},
   "outputs": [],
   "source": [
    "filename = \"User_Details.xlsx\""
   ]
  },
  {
   "cell_type": "code",
   "execution_count": 19,
   "id": "03a6c0ac",
   "metadata": {},
   "outputs": [],
   "source": [
    "def add_user():\n",
    "    name = input(\"Enter Name:\")\n",
    "    email = input(\"Enter Email:\")\n",
    "    phone = input(\"Enter Phone:\")\n",
    "    new_user = pd.DataFrame([[name,email,phone]], columns=[\"Name\", \"Email\", \"Phone\"])\n",
    "    if os.path.exists(filename):\n",
    "        existing_data = pd.read_excel(filename)\n",
    "        updated_data = pd.concat([existing_data,new_user], ignore_index=True)\n",
    "    else:\n",
    "        updated_data = new_user\n",
    "        updated_data.to_excel(filename,index=False)\n",
    "        print(f\"User {name} added successfully to {filename}.\")"
   ]
  },
  {
   "cell_type": "code",
   "execution_count": 25,
   "id": "28299c10",
   "metadata": {},
   "outputs": [],
   "source": [
    "def display_users():\n",
    "    if os.path.exists(filename):\n",
    "        users = pd.read_excel(filename)\n",
    "        print(\"\\n--User List--\")\n",
    "        print(users.to_string(index=False))\n",
    "    else:\n",
    "        print(\"No users found. The file does not exist yet.\")"
   ]
  },
  {
   "cell_type": "code",
   "execution_count": 26,
   "id": "080b6d91",
   "metadata": {},
   "outputs": [],
   "source": [
    "def main():\n",
    "    while True:\n",
    "        print(\"\\nChoose an option:\")\n",
    "        print(\"1. Add User\")\n",
    "        print(\"2. Display Users\")\n",
    "        print(\"3. Exit\")\n",
    "    \n",
    "        choice = input(\"Enter your choice(1/2/3):\")\n",
    "    \n",
    "        if choice == '1':\n",
    "            add_user()\n",
    "        elif choice == '2':\n",
    "            display_users()\n",
    "        elif choice == '3':\n",
    "            print(\"Exiting the program.\")\n",
    "            break\n",
    "        else:\n",
    "            print(\"Invalid choice. Please enter 1,2, or 3\")"
   ]
  },
  {
   "cell_type": "code",
   "execution_count": 27,
   "id": "318fa313",
   "metadata": {},
   "outputs": [
    {
     "name": "stdout",
     "output_type": "stream",
     "text": [
      "\n",
      "Choose an option:\n",
      "1. Add User\n",
      "2. Display Users\n",
      "3. Exit\n",
      "Enter your choice(1/2/3):1\n",
      "Enter Name:Janhavi\n",
      "Enter Email:janhavi@gmail.com\n",
      "Enter Phone:7666881589\n",
      "\n",
      "Choose an option:\n",
      "1. Add User\n",
      "2. Display Users\n",
      "3. Exit\n",
      "Enter your choice(1/2/3):2\n",
      "\n",
      "--User List--\n",
      "   Name             Email      Phone\n",
      "Janhavi janhavi@gmail.com 7666881589\n",
      "\n",
      "Choose an option:\n",
      "1. Add User\n",
      "2. Display Users\n",
      "3. Exit\n",
      "Enter your choice(1/2/3):3\n",
      "Exiting the program.\n"
     ]
    }
   ],
   "source": [
    "main()"
   ]
  },
  {
   "cell_type": "code",
   "execution_count": null,
   "id": "3398cada",
   "metadata": {},
   "outputs": [],
   "source": []
  }
 ],
 "metadata": {
  "kernelspec": {
   "display_name": "Python 3 (ipykernel)",
   "language": "python",
   "name": "python3"
  },
  "language_info": {
   "codemirror_mode": {
    "name": "ipython",
    "version": 3
   },
   "file_extension": ".py",
   "mimetype": "text/x-python",
   "name": "python",
   "nbconvert_exporter": "python",
   "pygments_lexer": "ipython3",
   "version": "3.9.12"
  }
 },
 "nbformat": 4,
 "nbformat_minor": 5
}
